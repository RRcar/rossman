{
 "cells": [
  {
   "cell_type": "code",
   "execution_count": 3,
   "metadata": {
    "collapsed": false
   },
   "outputs": [
    {
     "data": {
      "text/html": [
       "\n",
       "Page Links — <a href=\"index.html\" target=\"_self\">Project Overview Page</a>\n",
       "— <a href=\"page1.html\" target=\"_self\">Datasets Page</a>\n",
       "— <a href=\"page2.html\" target=\"_self\">Data Imputation Page</a>\n",
       "— <a href=\"page3.html\" target=\"_self\">Data Exploration Page</a>\n",
       "— <a href=\"page4.html\" target=\"_self\">Data Modeling Page</a> —"
      ],
      "text/plain": [
       "<IPython.core.display.HTML object>"
      ]
     },
     "metadata": {},
     "output_type": "display_data"
    }
   ],
   "source": [
    "%%html\n",
    "\n",
    "Page Links — <a href=\"index.html\" target=\"_self\">Project Overview Page</a>\n",
    "— <a href=\"page1.html\" target=\"_self\">Datasets Page</a>\n",
    "— <a href=\"page2.html\" target=\"_self\">Data Imputation Page</a>\n",
    "— <a href=\"page3.html\" target=\"_self\">Data Exploration Page</a>\n",
    "— <a href=\"page4.html\" target=\"_self\">Data Modeling Page</a> —"
   ]
  },
  {
   "cell_type": "code",
   "execution_count": 4,
   "metadata": {
    "collapsed": false
   },
   "outputs": [
    {
     "data": {
      "text/html": [
       "<script>\n",
       "code_show=true;\n",
       "function code_toggle() {\n",
       " if (code_show){\n",
       " $('div.input').hide();\n",
       " } else {\n",
       " $('div.input').show();\n",
       " }\n",
       " code_show = !code_show\n",
       "}\n",
       "$( document ).ready(code_toggle);\n",
       "</script>\n",
       "<form action=\"javascript:code_toggle()\"><input type=\"submit\" value=\"Toggle raw code on/off\"></form>"
      ],
      "text/plain": [
       "<IPython.core.display.HTML object>"
      ]
     },
     "execution_count": 4,
     "metadata": {},
     "output_type": "execute_result"
    }
   ],
   "source": [
    "# Toggle raw code on/off, from stackoverflow\n",
    "from IPython.display import HTML\n",
    "\n",
    "HTML('''<script>\n",
    "code_show=true;\n",
    "function code_toggle() {\n",
    " if (code_show){\n",
    " $('div.input').hide();\n",
    " } else {\n",
    " $('div.input').show();\n",
    " }\n",
    " code_show = !code_show\n",
    "}\n",
    "$( document ).ready(code_toggle);\n",
    "</script>\n",
    "<form action=\"javascript:code_toggle()\"><input type=\"submit\" value=\"Toggle raw code on/off\"></form>''')"
   ]
  },
  {
   "cell_type": "markdown",
   "metadata": {
    "collapsed": true
   },
   "source": [
    "### Project Description\n",
    "\n",
    "Rossmann is the largest drugstore in Germany, operating at least 1,115 drugstores within the country and over 3,000 drugstores in Europe. Most recently, the company reported 9.4% growth in sales volume, with annual sales revenue totaling €7.9 billion (approximately $8.5 billion USD). \n",
    " \n",
    "In 2015, Rossmann sponsored a Kaggle competition focused on predicting its German drugstores’ sales over 6 continuous weeks, based off over 2 years of data. Our undergraduate team was tasked with replicating the Kaggle competition prediction using what we learned in the course, existing literature, and published attempts of the competition. "
   ]
  },
  {
   "cell_type": "markdown",
   "metadata": {},
   "source": [
    "### Datasets\n",
    "\n",
    "The training dataset was comprised of 1,115 stores spanning 2 12 years. The training set lists the store numbers (IDs 1 through 1,115), as well as the date (between 1/1/13 and 7/31/15). The following are attributes associated with each store on each date: \n",
    "\n",
    "\n",
    "[]\n",
    "\n",
    "Number of Observations: 1,017,209 \n",
    "\n",
    "The test dataset was similarly structured, but it naturally excluded sales and customer volume: \n",
    "\n",
    "\n",
    "[]\n",
    "\n",
    "Number of Observations: 41,088 \n",
    "\n",
    "The store description dataset further categorized stores:\n",
    "\n",
    "\n",
    "[]\n",
    "\n",
    "Number of Observations: 1,115 \n",
    "\n",
    "Perhaps the most important thing noted during this brief exploration was the presence of missing data, signified by NaN values in the train set. In the next phase of our data science exploration, we tackled the identification and imputation of these missing values. \n"
   ]
  },
  {
   "cell_type": "markdown",
   "metadata": {},
   "source": [
    "### Data Imputation\n",
    "\n",
    "The first challenge we faced in imputing missing data was first identifying what stores, and on what dates, were missing values. We created a plot to identify those dates:\n",
    "\n",
    "[]\n",
    "\n",
    "Training data had two cohorts of missing data: New Year’s Day in 2013 and an anomaly period of store refurbishments that took place between July 1st and December 31st of 2014\n",
    "\n",
    "From here, we took two strategies to imputing the two missing data cases:\n",
    "I. New Year’s Day 2013\n",
    "   i. Store 988 was missing data\n",
    "   ii. Imputed observations from 1/1/2014 for 2013\n",
    "      a. 0 customers, sales, and promotion, relevant holiday indicator\n",
    "II. Store Refurbishments 2014\n",
    "   i. 180 stores were missing\n",
    "   ii. Used plot of Store 13 Sales to guide imputation decisions\n",
    "   iii. Imputed missing values using median of column using following:\n",
    "      a. If Open == 0  Sales, Customers = 0\n",
    "      b. If Open == 1 Sales, Customers = median of column observa- \n",
    "      tions where the full data shared same day of week and promotion\n",
    "\n",
    "[]"
   ]
  },
  {
   "cell_type": "markdown",
   "metadata": {},
   "source": [
    "### Data Exploration\n",
    "\n",
    "The clearly heteroscedastic trend \n",
    "rose our suspicions in regards to \n",
    "potentially grouped data: could it be \n",
    "that different store types have \n",
    "different linear trends for Sales vs. \n",
    "Customers? What attribute likely \n",
    "accounts for this? Our analysis below\n",
    "shows that store type drove the trend.\n",
    "\n",
    "[]\n",
    "\n",
    "The exploratory data analysis of store types, sales, and customers rises important questions of socioeconomic factors. The only reasonable variable we have in this regards is distance of competitors, as density is likely correlated with wealthier zip codes.\n",
    "\n",
    "[]\n",
    "\n",
    "[]\n",
    "\n",
    "[]\n",
    "\n",
    "Already touching upon store types, and the consequential social and economic factors in play, we next observe potential trends and patterns in regards to store sales and seasonality.\n",
    "\n",
    "[]\n",
    "\n",
    "[]\n",
    "\n",
    "[]"
   ]
  },
  {
   "cell_type": "markdown",
   "metadata": {
    "collapsed": true
   },
   "source": [
    "### Data Modeling\n",
    "\n",
    "In regards to final modeling (beyond multiple baseline approaches), we settled on presenting two quite different approaches. First, a rather simple approach that yielded surprisingly strong results was the concept of a moving-average. It required remarkably little information – just continuous data for the same dates being tested in a previous, data-reported year. \n",
    "\n",
    "\n",
    "[]\n",
    "\n",
    "\n",
    "\n",
    "\n",
    "Ultimately, we see there is no need to use a more computational intensive, higher-numbered moving average as the root MSE’s from a random test set are nearly identical. \n",
    "\n",
    "Therefore, we explored the differences between 3, 5, and 7 day moving averages by viewing plots of the predictions on top of the actual plot of sales. The following charts demonstrate improved fit with lower number of days at the steep cost of overfitting, so the \n",
    "   relatively “less fitted” 5 or 7 day averages may be preferred. \n",
    "\n",
    "[]\n",
    "[]\n",
    "[]\n",
    "\n",
    "Second, a more information-intensive and rigorous approach we took was vector auto regression (VAR). Our VAR train set was composed of all the original attributes of the train set, appended characteristics of each store from the description data, and appropriate lags found in autocorrelation plots below.\n",
    "\n",
    "[]\n",
    "[]\n",
    "[]"
   ]
  },
  {
   "cell_type": "markdown",
   "metadata": {},
   "source": [
    "### Conclusions"
   ]
  }
 ],
 "metadata": {
  "anaconda-cloud": {},
  "kernelspec": {
   "display_name": "Python [Root]",
   "language": "python",
   "name": "Python [Root]"
  },
  "language_info": {
   "codemirror_mode": {
    "name": "ipython",
    "version": 2
   },
   "file_extension": ".py",
   "mimetype": "text/x-python",
   "name": "python",
   "nbconvert_exporter": "python",
   "pygments_lexer": "ipython2",
   "version": "2.7.12"
  }
 },
 "nbformat": 4,
 "nbformat_minor": 0
}
