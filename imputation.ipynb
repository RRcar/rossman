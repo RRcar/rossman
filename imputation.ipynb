{
 "cells": [
  {
   "cell_type": "code",
   "execution_count": 1,
   "metadata": {
    "collapsed": false
   },
   "outputs": [
    {
     "data": {
      "text/html": [
       "\n",
       "Page Links — <a href=\"index.html\" target=\"_self\">Project Overview Page</a>\n",
       "— <a href=\"page1.html\" target=\"_self\">Datasets Page</a>\n",
       "— <a href=\"page2.html\" target=\"_self\">Data Imputation Page</a>\n",
       "— <a href=\"page3.html\" target=\"_self\">Data Exploration Page</a>\n",
       "— <a href=\"page4.html\" target=\"_self\">Data Modeling Page</a> —"
      ],
      "text/plain": [
       "<IPython.core.display.HTML object>"
      ]
     },
     "metadata": {},
     "output_type": "display_data"
    }
   ],
   "source": [
    "%%html\n",
    "\n",
    "Page Links — <a href=\"index.html\" target=\"_self\">Project Overview Page</a>\n",
    "— <a href=\"page1.html\" target=\"_self\">Datasets Page</a>\n",
    "— <a href=\"page2.html\" target=\"_self\">Data Imputation Page</a>\n",
    "— <a href=\"page3.html\" target=\"_self\">Data Exploration Page</a>\n",
    "— <a href=\"page4.html\" target=\"_self\">Data Modeling Page</a>"
   ]
  },
  {
   "cell_type": "code",
   "execution_count": 3,
   "metadata": {
    "collapsed": false
   },
   "outputs": [
    {
     "data": {
      "text/html": [
       "<script>\n",
       "code_show=true;\n",
       "function code_toggle() {\n",
       " if (code_show){\n",
       " $('div.input').hide();\n",
       " } else {\n",
       " $('div.input').show();\n",
       " }\n",
       " code_show = !code_show\n",
       "}\n",
       "$( document ).ready(code_toggle);\n",
       "</script>\n",
       "<form action=\"javascript:code_toggle()\"><input type=\"submit\" value=\"Toggle raw code on/off\"></form>"
      ],
      "text/plain": [
       "<IPython.core.display.HTML object>"
      ]
     },
     "execution_count": 3,
     "metadata": {},
     "output_type": "execute_result"
    }
   ],
   "source": [
    "# Toggle raw code on/off, from stackoverflow\n",
    "from IPython.display import HTML\n",
    "\n",
    "HTML('''<script>\n",
    "code_show=true;\n",
    "function code_toggle() {\n",
    " if (code_show){\n",
    " $('div.input').hide();\n",
    " } else {\n",
    " $('div.input').show();\n",
    " }\n",
    " code_show = !code_show\n",
    "}\n",
    "$( document ).ready(code_toggle);\n",
    "</script>\n",
    "<form action=\"javascript:code_toggle()\"><input type=\"submit\" value=\"Toggle raw code on/off\"></form>''')\n",
    "\n",
    "# Page Links below"
   ]
  },
  {
   "cell_type": "markdown",
   "metadata": {},
   "source": [
    "---"
   ]
  },
  {
   "cell_type": "code",
   "execution_count": 2,
   "metadata": {
    "collapsed": true
   },
   "outputs": [],
   "source": [
    "# Interpage Links"
   ]
  },
  {
   "cell_type": "code",
   "execution_count": 2,
   "metadata": {
    "collapsed": false
   },
   "outputs": [
    {
     "data": {
      "text/html": [
       "\n",
       "Page Links — <a href=\"index.html\" target=\"_self\">Project Overview Page</a>\n",
       "— <a href=\"page1.html\" target=\"_self\">Datasets Page</a>\n",
       "— <a href=\"page2.html\" target=\"_self\">Data Imputation Page</a>\n",
       "— <a href=\"page3.html\" target=\"_self\">Data Exploration Page</a>\n",
       "— <a href=\"page4.html\" target=\"_self\">Data Modeling Page</a> —"
      ],
      "text/plain": [
       "<IPython.core.display.HTML object>"
      ]
     },
     "metadata": {},
     "output_type": "display_data"
    }
   ],
   "source": [
    "%%html\n",
    "\n",
    "Page Links — <a href=\"index.html\" target=\"_self\">Project Overview Page</a>\n",
    "— <a href=\"page1.html\" target=\"_self\">Datasets Page</a>\n",
    "— <a href=\"page2.html\" target=\"_self\">Data Imputation Page</a>\n",
    "— <a href=\"page3.html\" target=\"_self\">Data Exploration Page</a>\n",
    "— <a href=\"page4.html\" target=\"_self\">Data Modeling Page</a>"
   ]
  }
 ],
 "metadata": {
  "anaconda-cloud": {},
  "kernelspec": {
   "display_name": "Python [Root]",
   "language": "python",
   "name": "Python [Root]"
  },
  "language_info": {
   "codemirror_mode": {
    "name": "ipython",
    "version": 2
   },
   "file_extension": ".py",
   "mimetype": "text/x-python",
   "name": "python",
   "nbconvert_exporter": "python",
   "pygments_lexer": "ipython2",
   "version": "2.7.12"
  }
 },
 "nbformat": 4,
 "nbformat_minor": 0
}
